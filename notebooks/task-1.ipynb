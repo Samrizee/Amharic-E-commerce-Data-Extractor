{
 "cells": [
  {
   "cell_type": "markdown",
   "id": "1845e1c0",
   "metadata": {},
   "source": [
    "import the libraries"
   ]
  },
  {
   "cell_type": "code",
   "execution_count": 7,
   "id": "75763e5d",
   "metadata": {},
   "outputs": [],
   "source": [
    "import sys\n",
    "sys.path.append('/home/samrawit/Desktop/Amharic-E-commerce-Data-Extractor/src/data/telegram_scrapper.py')"
   ]
  },
  {
   "cell_type": "code",
   "execution_count": null,
   "id": "3e4e2345",
   "metadata": {},
   "outputs": [
    {
     "name": "stdout",
     "output_type": "stream",
     "text": [
      "Please enter your phone (or bot token): Traceback (most recent call last):\n",
      "  File \"/home/samrawit/Desktop/Amharic-E-commerce-Data-Extractor/src/data/telegram_scrapper.py\", line 55, in <module>\n",
      "    with client:\n",
      "         ^^^^^^\n",
      "  File \"/home/samrawit/Desktop/Amharic-E-commerce-Data-Extractor/venv/lib/python3.12/site-packages/telethon/helpers.py\", line 219, in _sync_enter\n",
      "    return loop.run_until_complete(self.__aenter__())\n",
      "           ^^^^^^^^^^^^^^^^^^^^^^^^^^^^^^^^^^^^^^^^^^\n",
      "  File \"/home/samrawit/anaconda3/lib/python3.12/asyncio/base_events.py\", line 674, in run_until_complete\n",
      "    self.run_forever()\n",
      "  File \"/home/samrawit/anaconda3/lib/python3.12/asyncio/base_events.py\", line 641, in run_forever\n",
      "    self._run_once()\n",
      "  File \"/home/samrawit/anaconda3/lib/python3.12/asyncio/base_events.py\", line 1986, in _run_once\n",
      "    handle._run()\n",
      "  File \"/home/samrawit/anaconda3/lib/python3.12/asyncio/events.py\", line 88, in _run\n",
      "    self._context.run(self._callback, *self._args)\n",
      "  File \"/home/samrawit/Desktop/Amharic-E-commerce-Data-Extractor/venv/lib/python3.12/site-packages/telethon/client/auth.py\", line 669, in __aenter__\n",
      "    return await self.start()\n",
      "           ^^^^^^^^^^^^^^^^^^\n",
      "  File \"/home/samrawit/Desktop/Amharic-E-commerce-Data-Extractor/venv/lib/python3.12/site-packages/telethon/client/auth.py\", line 167, in _start\n",
      "    value = phone()\n",
      "            ^^^^^^^\n",
      "  File \"/home/samrawit/Desktop/Amharic-E-commerce-Data-Extractor/venv/lib/python3.12/site-packages/telethon/client/auth.py\", line 22, in <lambda>\n",
      "    phone: typing.Union[typing.Callable[[], str], str] = lambda: input('Please enter your phone (or bot token): '),\n",
      "                                                                 ^^^^^^^^^^^^^^^^^^^^^^^^^^^^^^^^^^^^^^^^^^^^^^^^^\n",
      "KeyboardInterrupt\n",
      "^C\n"
     ]
    }
   ],
   "source": []
  }
 ],
 "metadata": {
  "kernelspec": {
   "display_name": "venv",
   "language": "python",
   "name": "python3"
  },
  "language_info": {
   "codemirror_mode": {
    "name": "ipython",
    "version": 3
   },
   "file_extension": ".py",
   "mimetype": "text/x-python",
   "name": "python",
   "nbconvert_exporter": "python",
   "pygments_lexer": "ipython3",
   "version": "3.12.7"
  }
 },
 "nbformat": 4,
 "nbformat_minor": 5
}
